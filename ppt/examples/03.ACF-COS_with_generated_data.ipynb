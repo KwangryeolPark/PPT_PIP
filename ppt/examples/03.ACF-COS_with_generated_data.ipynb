{
 "cells": [
  {
   "cell_type": "markdown",
   "metadata": {},
   "source": []
  },
  {
   "cell_type": "code",
   "execution_count": 1,
   "metadata": {},
   "outputs": [],
   "source": [
    "import pickle\n",
    "import numpy as np\n",
    "import pandas as pd\n",
    "from ppt.metric import ACF_COS"
   ]
  },
  {
   "cell_type": "code",
   "execution_count": 2,
   "metadata": {},
   "outputs": [],
   "source": [
    "original_data = pickle.load(open('./dataset/CharacterTrajectories/test_dict.pkl', 'rb'))\n",
    "permuted_data = pickle.load(open('./dataset/CharacterTrajectories/permute_testdata/random_patchlen_006_permf_20.pkl', 'rb'))\n",
    "label_data = pd.read_csv('./dataset/CharacterTrajectories/test_label.csv')\n",
    "\n",
    "original_data = np.array([original_data[i] for i in range(len(original_data))])\n",
    "permuted_data = np.array([permuted_data[i] for i in range(len(permuted_data))])\n",
    "label_data = np.array([label_data['y_true'][i] for i in range(len(label_data))])\n",
    "unique_labels = np.unique(label_data)\n",
    "\n",
    "original_data = original_data.transpose(0, 2, 1)\n",
    "permuted_data = permuted_data.transpose(0, 2, 1)\n",
    "\n",
    "seq_len = original_data.shape[2]\n",
    "channel_num = original_data.shape[1]\n",
    "\n",
    "data_by_class_original = []\n",
    "data_by_class_permuted = []\n",
    "for label in unique_labels:\n",
    "    data_by_class_original.append(original_data[label_data == label])\n",
    "    data_by_class_permuted.append(permuted_data[label_data == label])"
   ]
  },
  {
   "cell_type": "code",
   "execution_count": 3,
   "metadata": {},
   "outputs": [
    {
     "name": "stdout",
     "output_type": "stream",
     "text": [
      "Creating permutation tensor at shuffled_index/shuffled_index_random_20_6_03_20.pt, with strategy random, frequency 20, and patch length 6\n"
     ]
    },
    {
     "data": {
      "application/vnd.jupyter.widget-view+json": {
       "model_id": "81c4341f702f43eeb59a7e3248c9d773",
       "version_major": 2,
       "version_minor": 0
      },
      "text/plain": [
       "Creating permutation tensor:   0%|          | 0/1000 [00:00<?, ?it/s]"
      ]
     },
     "metadata": {},
     "output_type": "display_data"
    },
    {
     "name": "stdout",
     "output_type": "stream",
     "text": [
      "[0.45939486 0.41904681 0.39361454 0.33518599 0.41883583 0.4127719\n",
      " 0.39239213 0.45132259 0.47610439 0.40979294 0.39475422 0.41780006\n",
      " 0.40117813 0.34373127 0.34470616 0.31646618 0.36175327 0.3609378\n",
      " 0.23663316 0.44181572 0.41301472 0.37469869 0.46170162 0.4386347\n",
      " 0.32444096 0.44141559 0.43694    0.27471586 0.34725262 0.38675748\n",
      " 0.29391873 0.36549423 0.44538049 0.35116011 0.40549316 0.4155833\n",
      " 0.38632043 0.27934705 0.35071761 0.43257881 0.48433175 0.50031521\n",
      " 0.47865438 0.43421165 0.41488106 0.42688973 0.47248195 0.47927148\n",
      " 0.23135981 0.37744567 0.39294316 0.36617058 0.37186893 0.39688449\n",
      " 0.42480537 0.5057291  0.50117947 0.26771448 0.34183257 0.38267373]\n"
     ]
    }
   ],
   "source": [
    "patch_len = 6\n",
    "permute_freq = 20\n",
    "num_classes = len(unique_labels)\n",
    "\n",
    "metric = ACF_COS(\n",
    "    channel_num=channel_num,\n",
    "    original_time_len=seq_len,\n",
    "    patch_len=patch_len,\n",
    "    permute_freq=permute_freq,\n",
    "    device='cuda',\n",
    "    permute_tensor_size=1000\n",
    ")\n",
    "\n",
    "cos_acf = []\n",
    "for cls_idx in range(num_classes):\n",
    "    original_data = data_by_class_original[cls_idx]\n",
    "    permuted_data = data_by_class_permuted[cls_idx]\n",
    "    cos_acf.append(metric(original_data, permuted_data))\n",
    "    \n",
    "cos_acf = np.array(cos_acf).reshape(-1)\n",
    "print(cos_acf)"
   ]
  },
  {
   "cell_type": "code",
   "execution_count": 4,
   "metadata": {},
   "outputs": [
    {
     "name": "stdout",
     "output_type": "stream",
     "text": [
      "Mean: 0.39442414469005743\n",
      "Std: 0.06330579523058594\n"
     ]
    }
   ],
   "source": [
    "mean = np.mean(cos_acf)\n",
    "std = np.std(cos_acf)\n",
    "print(f\"Mean: {mean}\")\n",
    "print(f\"Std: {std}\")"
   ]
  }
 ],
 "metadata": {
  "kernelspec": {
   "display_name": "Python 3",
   "language": "python",
   "name": "python3"
  },
  "language_info": {
   "codemirror_mode": {
    "name": "ipython",
    "version": 3
   },
   "file_extension": ".py",
   "mimetype": "text/x-python",
   "name": "python",
   "nbconvert_exporter": "python",
   "pygments_lexer": "ipython3",
   "version": "3.10.12"
  }
 },
 "nbformat": 4,
 "nbformat_minor": 2
}

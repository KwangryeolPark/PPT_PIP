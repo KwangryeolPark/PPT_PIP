{
 "cells": [
  {
   "cell_type": "markdown",
   "metadata": {},
   "source": []
  },
  {
   "cell_type": "code",
   "execution_count": 1,
   "metadata": {},
   "outputs": [
    {
     "name": "stdout",
     "output_type": "stream",
     "text": [
      "Defaulting to user installation because normal site-packages is not writeable\n",
      "Requirement already satisfied: scikit-learn in /home/kwangryeol/.local/lib/python3.10/site-packages (1.6.1)\n",
      "Requirement already satisfied: sktime in /home/kwangryeol/.local/lib/python3.10/site-packages (0.36.0)\n",
      "Requirement already satisfied: scipy>=1.6.0 in /home/kwangryeol/.local/lib/python3.10/site-packages (from scikit-learn) (1.15.2)\n",
      "Requirement already satisfied: joblib>=1.2.0 in /home/kwangryeol/.local/lib/python3.10/site-packages (from scikit-learn) (1.4.2)\n",
      "Requirement already satisfied: threadpoolctl>=3.1.0 in /home/kwangryeol/.local/lib/python3.10/site-packages (from scikit-learn) (3.6.0)\n",
      "Requirement already satisfied: numpy>=1.19.5 in /home/kwangryeol/.local/lib/python3.10/site-packages (from scikit-learn) (1.26.4)\n",
      "Requirement already satisfied: scikit-base<0.13.0,>=0.6.1 in /home/kwangryeol/.local/lib/python3.10/site-packages (from sktime) (0.12.0)\n",
      "Requirement already satisfied: packaging in /home/kwangryeol/.local/lib/python3.10/site-packages (from sktime) (24.2)\n",
      "Requirement already satisfied: pandas<2.3.0,>=1.1 in /home/kwangryeol/.local/lib/python3.10/site-packages (from sktime) (2.2.3)\n",
      "Requirement already satisfied: tzdata>=2022.7 in /home/kwangryeol/.local/lib/python3.10/site-packages (from pandas<2.3.0,>=1.1->sktime) (2025.1)\n",
      "Requirement already satisfied: python-dateutil>=2.8.2 in /home/kwangryeol/.local/lib/python3.10/site-packages (from pandas<2.3.0,>=1.1->sktime) (2.9.0.post0)\n",
      "Requirement already satisfied: pytz>=2020.1 in /usr/lib/python3/dist-packages (from pandas<2.3.0,>=1.1->sktime) (2022.1)\n",
      "Requirement already satisfied: six>=1.5 in /usr/lib/python3/dist-packages (from python-dateutil>=2.8.2->pandas<2.3.0,>=1.1->sktime) (1.16.0)\n"
     ]
    }
   ],
   "source": [
    "import os\n",
    "os.system('pip install scikit-learn sktime')\n",
    "import numpy as np\n",
    "from sktime.datasets import load_UCR_UEA_dataset, load_from_tsfile\n",
    "from sklearn.preprocessing import StandardScaler\n",
    "from ppt.metric import ACF_COS"
   ]
  },
  {
   "cell_type": "code",
   "execution_count": 2,
   "metadata": {},
   "outputs": [],
   "source": [
    "def extract_data(data, label):\n",
    "    res_data = []\n",
    "    res_labels = []\n",
    "    unique_label = np.unique(label)\n",
    "    label_map = {label: i for i, label in enumerate(unique_label)}\n",
    "    for index in range(0, len(data)):\n",
    "        t_data = np.array([ d.tolist() for d in data.iloc[index]])\n",
    "        t_label = label_map[label[index]]\n",
    "        res_data.append(t_data)\n",
    "        res_labels.append(t_label)\n",
    "    return np.array(res_data).swapaxes(1, 2), np.array(res_labels)"
   ]
  },
  {
   "cell_type": "code",
   "execution_count": null,
   "metadata": {},
   "outputs": [],
   "source": [
    "\n",
    "raw_X, raw_y = load_from_tsfile(os.path.join('./dataset/CharacterTrajectories/CharacterTrajectories_eq_TEST.ts'))\n",
    "X, y = extract_data(raw_X, raw_y)\n",
    "\n",
    "scaler = StandardScaler()\n",
    "scaler.fit(X.reshape(-1, X.shape[-1]))\n",
    "X = scaler.transform(X.reshape(-1, X.shape[-1])).reshape(X.shape)\n",
    "\n",
    "X = X.astype(np.float32)\n",
    "X = X.transpose(0, 2, 1)\n",
    "\n",
    "unique_label = np.unique(y)\n",
    "X_by_class = [X[y == i] for i in unique_label]\n",
    "\n",
    "num_classes = len(unique_label)\n",
    "num_channels = X.shape[1]\n",
    "seq_len = X.shape[2]"
   ]
  },
  {
   "cell_type": "code",
   "execution_count": null,
   "metadata": {},
   "outputs": [
    {
     "name": "stdout",
     "output_type": "stream",
     "text": [
      "Creating permutation tensor at shuffled_index/shuffled_index_random_20_6_03_19.pt, with strategy random, frequency 20, and patch length 6\n"
     ]
    },
    {
     "name": "stderr",
     "output_type": "stream",
     "text": [
      "/home/kwangryeol/playground/PPT_PIP/ppt/metric.py:45: UserWarning: original_time_len 119 must be divisible by patch_len 6. Truncating the data to 114\n",
      "  warnings.warn(f\"original_time_len {original_time_len} must be divisible by patch_len {patch_len}. Truncating the data to {original_time_len // patch_len * patch_len}\")\n"
     ]
    },
    {
     "data": {
      "application/vnd.jupyter.widget-view+json": {
       "model_id": "30370739e48545b38cc0e98ad5a64720",
       "version_major": 2,
       "version_minor": 0
      },
      "text/plain": [
       "Creating permutation tensor:   0%|          | 0/1000 [00:00<?, ?it/s]"
      ]
     },
     "metadata": {},
     "output_type": "display_data"
    },
    {
     "name": "stderr",
     "output_type": "stream",
     "text": [
      "/home/kwangryeol/playground/PPT_PIP/ppt/metric.py:88: UserWarning: Input time length 119 is not equal to original_time_len 114. Truncating the data to 114\n",
      "  warnings.warn(f\"Input time length {X.shape[2]} is not equal to original_time_len {self.original_time_len}. Truncating the data to {self.original_time_len}\")\n"
     ]
    },
    {
     "name": "stdout",
     "output_type": "stream",
     "text": [
      "Truncated data shape: (85, 3, 114)\n",
      "Input ACF-COS data is 3D (Batch, Channel, Time), trying to spilt the Time dimension into (Patch Length, Patch Number)\n",
      "Creating permutation tensor at shuffled_index/shuffled_index_random_20_6_03_19.pt, with strategy random, frequency 20, and patch length 6\n"
     ]
    },
    {
     "name": "stderr",
     "output_type": "stream",
     "text": [
      "/home/kwangryeol/playground/PPT_PIP/ppt/metric.py:45: UserWarning: original_time_len 119 must be divisible by patch_len 6. Truncating the data to 114\n",
      "  warnings.warn(f\"original_time_len {original_time_len} must be divisible by patch_len {patch_len}. Truncating the data to {original_time_len // patch_len * patch_len}\")\n"
     ]
    },
    {
     "data": {
      "application/vnd.jupyter.widget-view+json": {
       "model_id": "ebb665e23d9f419d89994c560d18857d",
       "version_major": 2,
       "version_minor": 0
      },
      "text/plain": [
       "Creating permutation tensor:   0%|          | 0/1000 [00:00<?, ?it/s]"
      ]
     },
     "metadata": {},
     "output_type": "display_data"
    },
    {
     "name": "stdout",
     "output_type": "stream",
     "text": [
      "Truncated data shape: (65, 3, 114)\n",
      "Input ACF-COS data is 3D (Batch, Channel, Time), trying to spilt the Time dimension into (Patch Length, Patch Number)\n",
      "Creating permutation tensor at shuffled_index/shuffled_index_random_20_6_03_19.pt, with strategy random, frequency 20, and patch length 6\n"
     ]
    },
    {
     "name": "stderr",
     "output_type": "stream",
     "text": [
      "/home/kwangryeol/playground/PPT_PIP/ppt/metric.py:88: UserWarning: Input time length 119 is not equal to original_time_len 114. Truncating the data to 114\n",
      "  warnings.warn(f\"Input time length {X.shape[2]} is not equal to original_time_len {self.original_time_len}. Truncating the data to {self.original_time_len}\")\n"
     ]
    },
    {
     "data": {
      "application/vnd.jupyter.widget-view+json": {
       "model_id": "7602211e213a48958cf92c571e23120d",
       "version_major": 2,
       "version_minor": 0
      },
      "text/plain": [
       "Creating permutation tensor:   0%|          | 0/1000 [00:00<?, ?it/s]"
      ]
     },
     "metadata": {},
     "output_type": "display_data"
    },
    {
     "name": "stdout",
     "output_type": "stream",
     "text": [
      "Truncated data shape: (70, 3, 114)\n",
      "Input ACF-COS data is 3D (Batch, Channel, Time), trying to spilt the Time dimension into (Patch Length, Patch Number)\n",
      "Creating permutation tensor at shuffled_index/shuffled_index_random_20_6_03_19.pt, with strategy random, frequency 20, and patch length 6\n"
     ]
    },
    {
     "data": {
      "application/vnd.jupyter.widget-view+json": {
       "model_id": "fb421d5dd7b7413baad7416e6aa5036b",
       "version_major": 2,
       "version_minor": 0
      },
      "text/plain": [
       "Creating permutation tensor:   0%|          | 0/1000 [00:00<?, ?it/s]"
      ]
     },
     "metadata": {},
     "output_type": "display_data"
    },
    {
     "name": "stdout",
     "output_type": "stream",
     "text": [
      "Truncated data shape: (65, 3, 114)\n",
      "Input ACF-COS data is 3D (Batch, Channel, Time), trying to spilt the Time dimension into (Patch Length, Patch Number)\n",
      "Creating permutation tensor at shuffled_index/shuffled_index_random_20_6_03_19.pt, with strategy random, frequency 20, and patch length 6\n"
     ]
    },
    {
     "data": {
      "application/vnd.jupyter.widget-view+json": {
       "model_id": "03a68eceb1c744558fbe92b481e87a14",
       "version_major": 2,
       "version_minor": 0
      },
      "text/plain": [
       "Creating permutation tensor:   0%|          | 0/1000 [00:00<?, ?it/s]"
      ]
     },
     "metadata": {},
     "output_type": "display_data"
    },
    {
     "name": "stdout",
     "output_type": "stream",
     "text": [
      "Truncated data shape: (62, 3, 114)\n",
      "Input ACF-COS data is 3D (Batch, Channel, Time), trying to spilt the Time dimension into (Patch Length, Patch Number)\n",
      "Creating permutation tensor at shuffled_index/shuffled_index_random_20_6_03_19.pt, with strategy random, frequency 20, and patch length 6\n"
     ]
    },
    {
     "data": {
      "application/vnd.jupyter.widget-view+json": {
       "model_id": "7309cffb2d604c6b96f30b9fe474653e",
       "version_major": 2,
       "version_minor": 0
      },
      "text/plain": [
       "Creating permutation tensor:   0%|          | 0/1000 [00:00<?, ?it/s]"
      ]
     },
     "metadata": {},
     "output_type": "display_data"
    },
    {
     "name": "stdout",
     "output_type": "stream",
     "text": [
      "Truncated data shape: (59, 3, 114)\n",
      "Input ACF-COS data is 3D (Batch, Channel, Time), trying to spilt the Time dimension into (Patch Length, Patch Number)\n",
      "Creating permutation tensor at shuffled_index/shuffled_index_random_20_6_03_19.pt, with strategy random, frequency 20, and patch length 6\n"
     ]
    },
    {
     "data": {
      "application/vnd.jupyter.widget-view+json": {
       "model_id": "fe2f5c0ce2b94e4bab5ecf17d648e78c",
       "version_major": 2,
       "version_minor": 0
      },
      "text/plain": [
       "Creating permutation tensor:   0%|          | 0/1000 [00:00<?, ?it/s]"
      ]
     },
     "metadata": {},
     "output_type": "display_data"
    },
    {
     "name": "stdout",
     "output_type": "stream",
     "text": [
      "Truncated data shape: (66, 3, 114)\n",
      "Input ACF-COS data is 3D (Batch, Channel, Time), trying to spilt the Time dimension into (Patch Length, Patch Number)\n",
      "Creating permutation tensor at shuffled_index/shuffled_index_random_20_6_03_19.pt, with strategy random, frequency 20, and patch length 6\n"
     ]
    },
    {
     "data": {
      "application/vnd.jupyter.widget-view+json": {
       "model_id": "e8630ff51def4bab8ae3d90e31dfaf6d",
       "version_major": 2,
       "version_minor": 0
      },
      "text/plain": [
       "Creating permutation tensor:   0%|          | 0/1000 [00:00<?, ?it/s]"
      ]
     },
     "metadata": {},
     "output_type": "display_data"
    },
    {
     "name": "stdout",
     "output_type": "stream",
     "text": [
      "Truncated data shape: (65, 3, 114)\n",
      "Input ACF-COS data is 3D (Batch, Channel, Time), trying to spilt the Time dimension into (Patch Length, Patch Number)\n",
      "Creating permutation tensor at shuffled_index/shuffled_index_random_20_6_03_19.pt, with strategy random, frequency 20, and patch length 6\n"
     ]
    },
    {
     "data": {
      "application/vnd.jupyter.widget-view+json": {
       "model_id": "f27a097f3022479c84cdf6ce88e89d1a",
       "version_major": 2,
       "version_minor": 0
      },
      "text/plain": [
       "Creating permutation tensor:   0%|          | 0/1000 [00:00<?, ?it/s]"
      ]
     },
     "metadata": {},
     "output_type": "display_data"
    },
    {
     "name": "stdout",
     "output_type": "stream",
     "text": [
      "Truncated data shape: (77, 3, 114)\n",
      "Input ACF-COS data is 3D (Batch, Channel, Time), trying to spilt the Time dimension into (Patch Length, Patch Number)\n",
      "Creating permutation tensor at shuffled_index/shuffled_index_random_20_6_03_19.pt, with strategy random, frequency 20, and patch length 6\n"
     ]
    },
    {
     "data": {
      "application/vnd.jupyter.widget-view+json": {
       "model_id": "c7128785593c4262adc788f72b5cd736",
       "version_major": 2,
       "version_minor": 0
      },
      "text/plain": [
       "Creating permutation tensor:   0%|          | 0/1000 [00:00<?, ?it/s]"
      ]
     },
     "metadata": {},
     "output_type": "display_data"
    },
    {
     "name": "stdout",
     "output_type": "stream",
     "text": [
      "Truncated data shape: (62, 3, 114)\n",
      "Input ACF-COS data is 3D (Batch, Channel, Time), trying to spilt the Time dimension into (Patch Length, Patch Number)\n",
      "Creating permutation tensor at shuffled_index/shuffled_index_random_20_6_03_19.pt, with strategy random, frequency 20, and patch length 6\n"
     ]
    },
    {
     "data": {
      "application/vnd.jupyter.widget-view+json": {
       "model_id": "d52b18fc09dc482dbd9166377be5fe22",
       "version_major": 2,
       "version_minor": 0
      },
      "text/plain": [
       "Creating permutation tensor:   0%|          | 0/1000 [00:00<?, ?it/s]"
      ]
     },
     "metadata": {},
     "output_type": "display_data"
    },
    {
     "name": "stdout",
     "output_type": "stream",
     "text": [
      "Truncated data shape: (68, 3, 114)\n",
      "Input ACF-COS data is 3D (Batch, Channel, Time), trying to spilt the Time dimension into (Patch Length, Patch Number)\n",
      "Creating permutation tensor at shuffled_index/shuffled_index_random_20_6_03_19.pt, with strategy random, frequency 20, and patch length 6\n"
     ]
    },
    {
     "data": {
      "application/vnd.jupyter.widget-view+json": {
       "model_id": "2ce42f413e5c4c90883024e5244d7cd9",
       "version_major": 2,
       "version_minor": 0
      },
      "text/plain": [
       "Creating permutation tensor:   0%|          | 0/1000 [00:00<?, ?it/s]"
      ]
     },
     "metadata": {},
     "output_type": "display_data"
    },
    {
     "name": "stdout",
     "output_type": "stream",
     "text": [
      "Truncated data shape: (70, 3, 114)\n",
      "Input ACF-COS data is 3D (Batch, Channel, Time), trying to spilt the Time dimension into (Patch Length, Patch Number)\n",
      "Creating permutation tensor at shuffled_index/shuffled_index_random_20_6_03_19.pt, with strategy random, frequency 20, and patch length 6\n"
     ]
    },
    {
     "data": {
      "application/vnd.jupyter.widget-view+json": {
       "model_id": "808e7a3dad614ed0bcb0e4bb2bb800c6",
       "version_major": 2,
       "version_minor": 0
      },
      "text/plain": [
       "Creating permutation tensor:   0%|          | 0/1000 [00:00<?, ?it/s]"
      ]
     },
     "metadata": {},
     "output_type": "display_data"
    },
    {
     "name": "stdout",
     "output_type": "stream",
     "text": [
      "Truncated data shape: (85, 3, 114)\n",
      "Input ACF-COS data is 3D (Batch, Channel, Time), trying to spilt the Time dimension into (Patch Length, Patch Number)\n",
      "Creating permutation tensor at shuffled_index/shuffled_index_random_20_6_03_19.pt, with strategy random, frequency 20, and patch length 6\n"
     ]
    },
    {
     "data": {
      "application/vnd.jupyter.widget-view+json": {
       "model_id": "1548acb67aa84a5c9c8a7787984fae79",
       "version_major": 2,
       "version_minor": 0
      },
      "text/plain": [
       "Creating permutation tensor:   0%|          | 0/1000 [00:00<?, ?it/s]"
      ]
     },
     "metadata": {},
     "output_type": "display_data"
    },
    {
     "name": "stdout",
     "output_type": "stream",
     "text": [
      "Truncated data shape: (71, 3, 114)\n",
      "Input ACF-COS data is 3D (Batch, Channel, Time), trying to spilt the Time dimension into (Patch Length, Patch Number)\n",
      "Creating permutation tensor at shuffled_index/shuffled_index_random_20_6_03_19.pt, with strategy random, frequency 20, and patch length 6\n"
     ]
    },
    {
     "data": {
      "application/vnd.jupyter.widget-view+json": {
       "model_id": "be398b4319a94d75a405a3c552d37493",
       "version_major": 2,
       "version_minor": 0
      },
      "text/plain": [
       "Creating permutation tensor:   0%|          | 0/1000 [00:00<?, ?it/s]"
      ]
     },
     "metadata": {},
     "output_type": "display_data"
    },
    {
     "name": "stdout",
     "output_type": "stream",
     "text": [
      "Truncated data shape: (78, 3, 114)\n",
      "Input ACF-COS data is 3D (Batch, Channel, Time), trying to spilt the Time dimension into (Patch Length, Patch Number)\n",
      "Creating permutation tensor at shuffled_index/shuffled_index_random_20_6_03_19.pt, with strategy random, frequency 20, and patch length 6\n"
     ]
    },
    {
     "data": {
      "application/vnd.jupyter.widget-view+json": {
       "model_id": "26c7c992022b46c5beabd4f50e822e71",
       "version_major": 2,
       "version_minor": 0
      },
      "text/plain": [
       "Creating permutation tensor:   0%|          | 0/1000 [00:00<?, ?it/s]"
      ]
     },
     "metadata": {},
     "output_type": "display_data"
    },
    {
     "name": "stdout",
     "output_type": "stream",
     "text": [
      "Truncated data shape: (93, 3, 114)\n",
      "Input ACF-COS data is 3D (Batch, Channel, Time), trying to spilt the Time dimension into (Patch Length, Patch Number)\n",
      "Creating permutation tensor at shuffled_index/shuffled_index_random_20_6_03_19.pt, with strategy random, frequency 20, and patch length 6\n"
     ]
    },
    {
     "data": {
      "application/vnd.jupyter.widget-view+json": {
       "model_id": "6e57223678bf469c99361ead87360221",
       "version_major": 2,
       "version_minor": 0
      },
      "text/plain": [
       "Creating permutation tensor:   0%|          | 0/1000 [00:00<?, ?it/s]"
      ]
     },
     "metadata": {},
     "output_type": "display_data"
    },
    {
     "name": "stdout",
     "output_type": "stream",
     "text": [
      "Truncated data shape: (69, 3, 114)\n",
      "Input ACF-COS data is 3D (Batch, Channel, Time), trying to spilt the Time dimension into (Patch Length, Patch Number)\n",
      "Creating permutation tensor at shuffled_index/shuffled_index_random_20_6_03_19.pt, with strategy random, frequency 20, and patch length 6\n"
     ]
    },
    {
     "data": {
      "application/vnd.jupyter.widget-view+json": {
       "model_id": "b7bdfb8d77c14515b53aaeef48cdd7ad",
       "version_major": 2,
       "version_minor": 0
      },
      "text/plain": [
       "Creating permutation tensor:   0%|          | 0/1000 [00:00<?, ?it/s]"
      ]
     },
     "metadata": {},
     "output_type": "display_data"
    },
    {
     "name": "stdout",
     "output_type": "stream",
     "text": [
      "Truncated data shape: (63, 3, 114)\n",
      "Input ACF-COS data is 3D (Batch, Channel, Time), trying to spilt the Time dimension into (Patch Length, Patch Number)\n",
      "Creating permutation tensor at shuffled_index/shuffled_index_random_20_6_03_19.pt, with strategy random, frequency 20, and patch length 6\n"
     ]
    },
    {
     "data": {
      "application/vnd.jupyter.widget-view+json": {
       "model_id": "f418108ddc084255a8c26feb0ddf3695",
       "version_major": 2,
       "version_minor": 0
      },
      "text/plain": [
       "Creating permutation tensor:   0%|          | 0/1000 [00:00<?, ?it/s]"
      ]
     },
     "metadata": {},
     "output_type": "display_data"
    },
    {
     "name": "stdout",
     "output_type": "stream",
     "text": [
      "Truncated data shape: (87, 3, 114)\n",
      "Input ACF-COS data is 3D (Batch, Channel, Time), trying to spilt the Time dimension into (Patch Length, Patch Number)\n",
      "Creating permutation tensor at shuffled_index/shuffled_index_random_20_6_03_19.pt, with strategy random, frequency 20, and patch length 6\n"
     ]
    },
    {
     "data": {
      "application/vnd.jupyter.widget-view+json": {
       "model_id": "66a4071ffa3c48939dd4b44deaec7fec",
       "version_major": 2,
       "version_minor": 0
      },
      "text/plain": [
       "Creating permutation tensor:   0%|          | 0/1000 [00:00<?, ?it/s]"
      ]
     },
     "metadata": {},
     "output_type": "display_data"
    },
    {
     "name": "stdout",
     "output_type": "stream",
     "text": [
      "Truncated data shape: (62, 3, 114)\n",
      "Input ACF-COS data is 3D (Batch, Channel, Time), trying to spilt the Time dimension into (Patch Length, Patch Number)\n"
     ]
    }
   ],
   "source": [
    "\n",
    "scores = []\n",
    "for class_idx in range(num_classes):\n",
    "    patch_len = 6\n",
    "    permute_freq = 20\n",
    "    \n",
    "    data = X_by_class[class_idx]\n",
    "    \n",
    "    acf_cos = ACF_COS(\n",
    "        channel_num=num_channels,\n",
    "        original_time_len=seq_len,\n",
    "        patch_len=patch_len,\n",
    "        permute_freq=permute_freq,\n",
    "        device='cuda',\n",
    "    )\n",
    "    score = acf_cos(data)\n",
    "    scores.append(score)\n",
    "scores = np.array(scores)\n",
    "scores = scores.reshape(-1, 1)\n",
    "mean = scores.mean()\n",
    "std = scores.std()\n"
   ]
  },
  {
   "cell_type": "code",
   "execution_count": 5,
   "metadata": {},
   "outputs": [
    {
     "name": "stdout",
     "output_type": "stream",
     "text": [
      "Mean: 0.03998255431652069\n",
      "Std: 0.05495275242535905\n"
     ]
    }
   ],
   "source": [
    "print(f\"Mean: {mean}\")\n",
    "print(f\"Std: {std}\")"
   ]
  }
 ],
 "metadata": {
  "kernelspec": {
   "display_name": "Python 3",
   "language": "python",
   "name": "python3"
  },
  "language_info": {
   "codemirror_mode": {
    "name": "ipython",
    "version": 3
   },
   "file_extension": ".py",
   "mimetype": "text/x-python",
   "name": "python",
   "nbconvert_exporter": "python",
   "pygments_lexer": "ipython3",
   "version": "3.10.12"
  }
 },
 "nbformat": 4,
 "nbformat_minor": 2
}

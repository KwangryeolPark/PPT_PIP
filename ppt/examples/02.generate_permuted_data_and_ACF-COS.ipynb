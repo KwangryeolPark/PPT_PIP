{
 "cells": [
  {
   "cell_type": "markdown",
   "metadata": {},
   "source": []
  },
  {
   "cell_type": "code",
   "execution_count": 1,
   "metadata": {},
   "outputs": [
    {
     "name": "stdout",
     "output_type": "stream",
     "text": [
      "Defaulting to user installation because normal site-packages is not writeable\n",
      "Requirement already satisfied: scikit-learn in /home/kwangryeol/.local/lib/python3.10/site-packages (1.6.1)\n",
      "Requirement already satisfied: sktime in /home/kwangryeol/.local/lib/python3.10/site-packages (0.36.0)\n",
      "Requirement already satisfied: scipy>=1.6.0 in /home/kwangryeol/.local/lib/python3.10/site-packages (from scikit-learn) (1.15.2)\n",
      "Requirement already satisfied: joblib>=1.2.0 in /home/kwangryeol/.local/lib/python3.10/site-packages (from scikit-learn) (1.4.2)\n",
      "Requirement already satisfied: threadpoolctl>=3.1.0 in /home/kwangryeol/.local/lib/python3.10/site-packages (from scikit-learn) (3.6.0)\n",
      "Requirement already satisfied: numpy>=1.19.5 in /home/kwangryeol/.local/lib/python3.10/site-packages (from scikit-learn) (1.26.4)\n",
      "Requirement already satisfied: pandas<2.3.0,>=1.1 in /home/kwangryeol/.local/lib/python3.10/site-packages (from sktime) (2.2.3)\n",
      "Requirement already satisfied: scikit-base<0.13.0,>=0.6.1 in /home/kwangryeol/.local/lib/python3.10/site-packages (from sktime) (0.12.0)\n",
      "Requirement already satisfied: packaging in /home/kwangryeol/.local/lib/python3.10/site-packages (from sktime) (24.2)\n",
      "Requirement already satisfied: tzdata>=2022.7 in /home/kwangryeol/.local/lib/python3.10/site-packages (from pandas<2.3.0,>=1.1->sktime) (2025.1)\n",
      "Requirement already satisfied: pytz>=2020.1 in /usr/lib/python3/dist-packages (from pandas<2.3.0,>=1.1->sktime) (2022.1)\n",
      "Requirement already satisfied: python-dateutil>=2.8.2 in /home/kwangryeol/.local/lib/python3.10/site-packages (from pandas<2.3.0,>=1.1->sktime) (2.9.0.post0)\n",
      "Requirement already satisfied: six>=1.5 in /usr/lib/python3/dist-packages (from python-dateutil>=2.8.2->pandas<2.3.0,>=1.1->sktime) (1.16.0)\n"
     ]
    }
   ],
   "source": [
    "import os\n",
    "os.system('pip install scikit-learn sktime')\n",
    "import numpy as np\n",
    "from sktime.datasets import load_UCR_UEA_dataset, load_from_tsfile\n",
    "from sklearn.preprocessing import StandardScaler\n",
    "from ppt.metric import ACF_COS"
   ]
  },
  {
   "cell_type": "code",
   "execution_count": 2,
   "metadata": {},
   "outputs": [],
   "source": [
    "def extract_data(data, label):\n",
    "    res_data = []\n",
    "    res_labels = []\n",
    "    unique_label = np.unique(label)\n",
    "    label_map = {label: i for i, label in enumerate(unique_label)}\n",
    "    for index in range(0, len(data)):\n",
    "        t_data = np.array([ d.tolist() for d in data.iloc[index]])\n",
    "        t_label = label_map[label[index]]\n",
    "        res_data.append(t_data)\n",
    "        res_labels.append(t_label)\n",
    "    return np.array(res_data).swapaxes(1, 2), np.array(res_labels)"
   ]
  },
  {
   "cell_type": "code",
   "execution_count": 3,
   "metadata": {},
   "outputs": [
    {
     "name": "stdout",
     "output_type": "stream",
     "text": [
      "Train X shape: (1422, 119, 3)\n",
      "Train y shape: (1422,)\n",
      "Test X shape: (1436, 119, 3)\n",
      "Test y shape: (1436,)\n",
      "test_X shape:  (1, 2, 12)\n"
     ]
    }
   ],
   "source": [
    "train_raw_X, train_raw_y = load_from_tsfile(os.path.join('./dataset/CharacterTrajectories/CharacterTrajectories_eq_TRAIN.ts'))\n",
    "test_raw_X, test_raw_y = load_from_tsfile(os.path.join('./dataset/CharacterTrajectories/CharacterTrajectories_eq_TEST.ts'))\n",
    "\n",
    "train_X, train_y = extract_data(train_raw_X, train_raw_y)\n",
    "test_X, test_y = extract_data(test_raw_X, test_raw_y)\n",
    "\n",
    "print(f\"Train X shape: {train_X.shape}\")\n",
    "print(f\"Train y shape: {train_y.shape}\")\n",
    "print(f\"Test X shape: {test_X.shape}\")\n",
    "print(f\"Test y shape: {test_y.shape}\")\n",
    "\n",
    "scaler = StandardScaler()\n",
    "scaler.fit(train_X.reshape(-1, train_X.shape[-1]))\n",
    "train_X = scaler.transform(train_X.reshape(-1, train_X.shape[-1])).reshape(train_X.shape)\n",
    "test_X = scaler.transform(test_X.reshape(-1, test_X.shape[-1])).reshape(test_X.shape)\n",
    "\n",
    "# repeat the last element in sequence to make the sequence length 120. \n",
    "# train_X: (1422, 119, 3) -> (1422, 120, 3)\n",
    "# test_X: (1436, 119, 3) -> (1436, 120, 3)\n",
    "# this is only for CharacterTrajectories dataset \n",
    "train_X = np.concatenate([train_X, np.repeat(train_X[:, -1:, :], 1, axis=1)], axis=1)\n",
    "test_X = np.concatenate([test_X, np.repeat(test_X[:, -1:, :], 1, axis=1)], axis=1)\n",
    "\n",
    "\n",
    "train_X = train_X.transpose(0, 2, 1)\n",
    "test_X = test_X.transpose(0, 2, 1)\n",
    "test_X = test_X[0: 1, 0: 2, :12]\n",
    "\n",
    "seq_len = test_X.shape[2]\n",
    "num_channels = test_X.shape[1]\n",
    "\n",
    "print(\"test_X shape: \", test_X.shape)"
   ]
  },
  {
   "cell_type": "code",
   "execution_count": 4,
   "metadata": {},
   "outputs": [
    {
     "name": "stdout",
     "output_type": "stream",
     "text": [
      "Creating permutation tensor at shuffled_index/shuffled_index_random_10_4_02_03.pt, with strategy random, frequency 10, and patch length 4\n"
     ]
    },
    {
     "data": {
      "application/vnd.jupyter.widget-view+json": {
       "model_id": "4df4102c83ab4add9e7aa6ffcc3de82f",
       "version_major": 2,
       "version_minor": 0
      },
      "text/plain": [
       "Creating permutation tensor:   0%|          | 0/100 [00:00<?, ?it/s]"
      ]
     },
     "metadata": {},
     "output_type": "display_data"
    },
    {
     "name": "stdout",
     "output_type": "stream",
     "text": [
      "Input ACF-COS data is 3D (Batch, Channel, Time), trying to spilt the Time dimension into (Patch Length, Patch Number)\n",
      "####################\n",
      "[[[-0.08181659 -0.10493636 -0.13935885 -0.18864648 -0.22881389\n",
      "   -0.25704815 -0.27459713 -0.29514215 -0.32415694 -0.36563825\n",
      "   -0.41545624 -0.47124731]\n",
      "  [ 0.09468833  0.06546107  0.0924822   0.09893493  0.11581817\n",
      "    0.1189141   0.12794098  0.12941206  0.13572889  0.13627249\n",
      "    0.13872264  0.13213997]]]\n",
      "####################\n",
      "torch.Size([1, 2, 4, 3]) torch.Size([1, 2, 4, 3])\n",
      "tensor([[[[-0.0818, -0.1049, -0.1394],\n",
      "          [-0.1886, -0.2288, -0.2570],\n",
      "          [-0.2746, -0.2951, -0.3242],\n",
      "          [-0.3656, -0.4155, -0.4712]],\n",
      "\n",
      "         [[ 0.0947,  0.0655,  0.0925],\n",
      "          [ 0.0989,  0.1158,  0.1189],\n",
      "          [ 0.1279,  0.1294,  0.1357],\n",
      "          [ 0.1363,  0.1387,  0.1321]]]], device='cuda:0', dtype=torch.float64)\n",
      "tensor([[[[-0.1394, -0.1049, -0.0818],\n",
      "          [-0.2570, -0.2288, -0.1886],\n",
      "          [-0.3242, -0.2951, -0.2746],\n",
      "          [-0.4712, -0.4155, -0.3656]],\n",
      "\n",
      "         [[ 0.0655,  0.0947,  0.0925],\n",
      "          [ 0.1158,  0.0989,  0.1189],\n",
      "          [ 0.1294,  0.1279,  0.1357],\n",
      "          [ 0.1387,  0.1363,  0.1321]]]], device='cuda:0', dtype=torch.float64)\n",
      "####################\n",
      "tensor([[[-0.0818, -0.1049, -0.1394, -0.1886, -0.2288, -0.2570, -0.2746,\n",
      "          -0.2951, -0.3242, -0.3656, -0.4155, -0.4712],\n",
      "         [ 0.0947,  0.0655,  0.0925,  0.0989,  0.1158,  0.1189,  0.1279,\n",
      "           0.1294,  0.1357,  0.1363,  0.1387,  0.1321]]], device='cuda:0',\n",
      "       dtype=torch.float64)\n",
      "tensor([[[-0.1394, -0.1049, -0.0818, -0.2570, -0.2288, -0.1886, -0.3242,\n",
      "          -0.2951, -0.2746, -0.4712, -0.4155, -0.3656],\n",
      "         [ 0.0655,  0.0947,  0.0925,  0.1158,  0.0989,  0.1189,  0.1294,\n",
      "           0.1279,  0.1357,  0.1387,  0.1363,  0.1321]]], device='cuda:0',\n",
      "       dtype=torch.float64)\n",
      "4 | 10: 0.00\n",
      "Creating permutation tensor at shuffled_index/shuffled_index_random_20_4_02_03.pt, with strategy random, frequency 20, and patch length 4\n"
     ]
    },
    {
     "data": {
      "application/vnd.jupyter.widget-view+json": {
       "model_id": "7df59dcfa1c34eef8f638d99863300df",
       "version_major": 2,
       "version_minor": 0
      },
      "text/plain": [
       "Creating permutation tensor:   0%|          | 0/100 [00:00<?, ?it/s]"
      ]
     },
     "metadata": {},
     "output_type": "display_data"
    },
    {
     "name": "stdout",
     "output_type": "stream",
     "text": [
      "Input ACF-COS data is 3D (Batch, Channel, Time), trying to spilt the Time dimension into (Patch Length, Patch Number)\n",
      "####################\n",
      "[[[-0.08181659 -0.10493636 -0.13935885 -0.18864648 -0.22881389\n",
      "   -0.25704815 -0.27459713 -0.29514215 -0.32415694 -0.36563825\n",
      "   -0.41545624 -0.47124731]\n",
      "  [ 0.09468833  0.06546107  0.0924822   0.09893493  0.11581817\n",
      "    0.1189141   0.12794098  0.12941206  0.13572889  0.13627249\n",
      "    0.13872264  0.13213997]]]\n",
      "####################\n",
      "torch.Size([1, 2, 4, 3]) torch.Size([1, 2, 4, 3])\n",
      "tensor([[[[-0.0818, -0.1049, -0.1394],\n",
      "          [-0.1886, -0.2288, -0.2570],\n",
      "          [-0.2746, -0.2951, -0.3242],\n",
      "          [-0.3656, -0.4155, -0.4712]],\n",
      "\n",
      "         [[ 0.0947,  0.0655,  0.0925],\n",
      "          [ 0.0989,  0.1158,  0.1189],\n",
      "          [ 0.1279,  0.1294,  0.1357],\n",
      "          [ 0.1363,  0.1387,  0.1321]]]], device='cuda:0', dtype=torch.float64)\n",
      "tensor([[[[-0.1394, -0.0818, -0.1049],\n",
      "          [-0.2570, -0.1886, -0.2288],\n",
      "          [-0.3242, -0.2746, -0.2951],\n",
      "          [-0.4712, -0.3656, -0.4155]],\n",
      "\n",
      "         [[ 0.0925,  0.0655,  0.0947],\n",
      "          [ 0.1189,  0.1158,  0.0989],\n",
      "          [ 0.1357,  0.1294,  0.1279],\n",
      "          [ 0.1321,  0.1387,  0.1363]]]], device='cuda:0', dtype=torch.float64)\n",
      "####################\n",
      "tensor([[[-0.0818, -0.1049, -0.1394, -0.1886, -0.2288, -0.2570, -0.2746,\n",
      "          -0.2951, -0.3242, -0.3656, -0.4155, -0.4712],\n",
      "         [ 0.0947,  0.0655,  0.0925,  0.0989,  0.1158,  0.1189,  0.1279,\n",
      "           0.1294,  0.1357,  0.1363,  0.1387,  0.1321]]], device='cuda:0',\n",
      "       dtype=torch.float64)\n",
      "tensor([[[-0.1394, -0.0818, -0.1049, -0.2570, -0.1886, -0.2288, -0.3242,\n",
      "          -0.2746, -0.2951, -0.4712, -0.3656, -0.4155],\n",
      "         [ 0.0925,  0.0655,  0.0947,  0.1189,  0.1158,  0.0989,  0.1357,\n",
      "           0.1294,  0.1279,  0.1321,  0.1387,  0.1363]]], device='cuda:0',\n",
      "       dtype=torch.float64)\n",
      "4 | 20: 0.00\n",
      "Creating permutation tensor at shuffled_index/shuffled_index_random_40_4_02_03.pt, with strategy random, frequency 40, and patch length 4\n"
     ]
    },
    {
     "data": {
      "application/vnd.jupyter.widget-view+json": {
       "model_id": "c6239d15d7d44909a43b9a408be42245",
       "version_major": 2,
       "version_minor": 0
      },
      "text/plain": [
       "Creating permutation tensor:   0%|          | 0/100 [00:00<?, ?it/s]"
      ]
     },
     "metadata": {},
     "output_type": "display_data"
    },
    {
     "name": "stdout",
     "output_type": "stream",
     "text": [
      "Input ACF-COS data is 3D (Batch, Channel, Time), trying to spilt the Time dimension into (Patch Length, Patch Number)\n",
      "####################\n",
      "[[[-0.08181659 -0.10493636 -0.13935885 -0.18864648 -0.22881389\n",
      "   -0.25704815 -0.27459713 -0.29514215 -0.32415694 -0.36563825\n",
      "   -0.41545624 -0.47124731]\n",
      "  [ 0.09468833  0.06546107  0.0924822   0.09893493  0.11581817\n",
      "    0.1189141   0.12794098  0.12941206  0.13572889  0.13627249\n",
      "    0.13872264  0.13213997]]]\n",
      "####################\n",
      "torch.Size([1, 2, 4, 3]) torch.Size([1, 2, 4, 3])\n",
      "tensor([[[[-0.0818, -0.1049, -0.1394],\n",
      "          [-0.1886, -0.2288, -0.2570],\n",
      "          [-0.2746, -0.2951, -0.3242],\n",
      "          [-0.3656, -0.4155, -0.4712]],\n",
      "\n",
      "         [[ 0.0947,  0.0655,  0.0925],\n",
      "          [ 0.0989,  0.1158,  0.1189],\n",
      "          [ 0.1279,  0.1294,  0.1357],\n",
      "          [ 0.1363,  0.1387,  0.1321]]]], device='cuda:0', dtype=torch.float64)\n",
      "tensor([[[[-0.1394, -0.0818, -0.1049],\n",
      "          [-0.2570, -0.1886, -0.2288],\n",
      "          [-0.3242, -0.2746, -0.2951],\n",
      "          [-0.4712, -0.3656, -0.4155]],\n",
      "\n",
      "         [[ 0.0655,  0.0925,  0.0947],\n",
      "          [ 0.1158,  0.1189,  0.0989],\n",
      "          [ 0.1294,  0.1357,  0.1279],\n",
      "          [ 0.1387,  0.1321,  0.1363]]]], device='cuda:0', dtype=torch.float64)\n",
      "####################\n",
      "tensor([[[-0.0818, -0.1049, -0.1394, -0.1886, -0.2288, -0.2570, -0.2746,\n",
      "          -0.2951, -0.3242, -0.3656, -0.4155, -0.4712],\n",
      "         [ 0.0947,  0.0655,  0.0925,  0.0989,  0.1158,  0.1189,  0.1279,\n",
      "           0.1294,  0.1357,  0.1363,  0.1387,  0.1321]]], device='cuda:0',\n",
      "       dtype=torch.float64)\n",
      "tensor([[[-0.1394, -0.0818, -0.1049, -0.2570, -0.1886, -0.2288, -0.3242,\n",
      "          -0.2746, -0.2951, -0.4712, -0.3656, -0.4155],\n",
      "         [ 0.0655,  0.0925,  0.0947,  0.1158,  0.1189,  0.0989,  0.1294,\n",
      "           0.1357,  0.1279,  0.1387,  0.1321,  0.1363]]], device='cuda:0',\n",
      "       dtype=torch.float64)\n",
      "4 | 40: 0.00\n",
      "Creating permutation tensor at shuffled_index/shuffled_index_random_10_6_02_02.pt, with strategy random, frequency 10, and patch length 6\n"
     ]
    },
    {
     "data": {
      "application/vnd.jupyter.widget-view+json": {
       "model_id": "e47ce7e4718c473cbdac2b10a59ef7c1",
       "version_major": 2,
       "version_minor": 0
      },
      "text/plain": [
       "Creating permutation tensor:   0%|          | 0/100 [00:00<?, ?it/s]"
      ]
     },
     "metadata": {},
     "output_type": "display_data"
    },
    {
     "name": "stdout",
     "output_type": "stream",
     "text": [
      "Input ACF-COS data is 3D (Batch, Channel, Time), trying to spilt the Time dimension into (Patch Length, Patch Number)\n",
      "####################\n",
      "[[[-0.08181659 -0.10493636 -0.13935885 -0.18864648 -0.22881389\n",
      "   -0.25704815 -0.27459713 -0.29514215 -0.32415694 -0.36563825\n",
      "   -0.41545624 -0.47124731]\n",
      "  [ 0.09468833  0.06546107  0.0924822   0.09893493  0.11581817\n",
      "    0.1189141   0.12794098  0.12941206  0.13572889  0.13627249\n",
      "    0.13872264  0.13213997]]]\n",
      "####################\n",
      "torch.Size([1, 2, 6, 2]) torch.Size([1, 2, 6, 2])\n",
      "tensor([[[[-0.0818, -0.1049],\n",
      "          [-0.1394, -0.1886],\n",
      "          [-0.2288, -0.2570],\n",
      "          [-0.2746, -0.2951],\n",
      "          [-0.3242, -0.3656],\n",
      "          [-0.4155, -0.4712]],\n",
      "\n",
      "         [[ 0.0947,  0.0655],\n",
      "          [ 0.0925,  0.0989],\n",
      "          [ 0.1158,  0.1189],\n",
      "          [ 0.1279,  0.1294],\n",
      "          [ 0.1357,  0.1363],\n",
      "          [ 0.1387,  0.1321]]]], device='cuda:0', dtype=torch.float64)\n",
      "tensor([[[[-0.0818, -0.1049],\n",
      "          [-0.1394, -0.1886],\n",
      "          [-0.2288, -0.2570],\n",
      "          [-0.2746, -0.2951],\n",
      "          [-0.3242, -0.3656],\n",
      "          [-0.4155, -0.4712]],\n",
      "\n",
      "         [[ 0.0947,  0.0655],\n",
      "          [ 0.0925,  0.0989],\n",
      "          [ 0.1158,  0.1189],\n",
      "          [ 0.1279,  0.1294],\n",
      "          [ 0.1357,  0.1363],\n",
      "          [ 0.1387,  0.1321]]]], device='cuda:0', dtype=torch.float64)\n",
      "####################\n",
      "tensor([[[-0.0818, -0.1049, -0.1394, -0.1886, -0.2288, -0.2570, -0.2746,\n",
      "          -0.2951, -0.3242, -0.3656, -0.4155, -0.4712],\n",
      "         [ 0.0947,  0.0655,  0.0925,  0.0989,  0.1158,  0.1189,  0.1279,\n",
      "           0.1294,  0.1357,  0.1363,  0.1387,  0.1321]]], device='cuda:0',\n",
      "       dtype=torch.float64)\n",
      "tensor([[[-0.0818, -0.1049, -0.1394, -0.1886, -0.2288, -0.2570, -0.2746,\n",
      "          -0.2951, -0.3242, -0.3656, -0.4155, -0.4712],\n",
      "         [ 0.0947,  0.0655,  0.0925,  0.0989,  0.1158,  0.1189,  0.1279,\n",
      "           0.1294,  0.1357,  0.1363,  0.1387,  0.1321]]], device='cuda:0',\n",
      "       dtype=torch.float64)\n",
      "6 | 10: 0.00\n",
      "Creating permutation tensor at shuffled_index/shuffled_index_random_20_6_02_02.pt, with strategy random, frequency 20, and patch length 6\n"
     ]
    },
    {
     "data": {
      "application/vnd.jupyter.widget-view+json": {
       "model_id": "54c44622900a4988ada81b6e8a72be9c",
       "version_major": 2,
       "version_minor": 0
      },
      "text/plain": [
       "Creating permutation tensor:   0%|          | 0/100 [00:00<?, ?it/s]"
      ]
     },
     "metadata": {},
     "output_type": "display_data"
    },
    {
     "name": "stdout",
     "output_type": "stream",
     "text": [
      "Input ACF-COS data is 3D (Batch, Channel, Time), trying to spilt the Time dimension into (Patch Length, Patch Number)\n",
      "####################\n",
      "[[[-0.08181659 -0.10493636 -0.13935885 -0.18864648 -0.22881389\n",
      "   -0.25704815 -0.27459713 -0.29514215 -0.32415694 -0.36563825\n",
      "   -0.41545624 -0.47124731]\n",
      "  [ 0.09468833  0.06546107  0.0924822   0.09893493  0.11581817\n",
      "    0.1189141   0.12794098  0.12941206  0.13572889  0.13627249\n",
      "    0.13872264  0.13213997]]]\n",
      "####################\n",
      "torch.Size([1, 2, 6, 2]) torch.Size([1, 2, 6, 2])\n",
      "tensor([[[[-0.0818, -0.1049],\n",
      "          [-0.1394, -0.1886],\n",
      "          [-0.2288, -0.2570],\n",
      "          [-0.2746, -0.2951],\n",
      "          [-0.3242, -0.3656],\n",
      "          [-0.4155, -0.4712]],\n",
      "\n",
      "         [[ 0.0947,  0.0655],\n",
      "          [ 0.0925,  0.0989],\n",
      "          [ 0.1158,  0.1189],\n",
      "          [ 0.1279,  0.1294],\n",
      "          [ 0.1357,  0.1363],\n",
      "          [ 0.1387,  0.1321]]]], device='cuda:0', dtype=torch.float64)\n",
      "tensor([[[[-0.1049, -0.0818],\n",
      "          [-0.1886, -0.1394],\n",
      "          [-0.2570, -0.2288],\n",
      "          [-0.2951, -0.2746],\n",
      "          [-0.3656, -0.3242],\n",
      "          [-0.4712, -0.4155]],\n",
      "\n",
      "         [[ 0.0655,  0.0947],\n",
      "          [ 0.0989,  0.0925],\n",
      "          [ 0.1189,  0.1158],\n",
      "          [ 0.1294,  0.1279],\n",
      "          [ 0.1363,  0.1357],\n",
      "          [ 0.1321,  0.1387]]]], device='cuda:0', dtype=torch.float64)\n",
      "####################\n",
      "tensor([[[-0.0818, -0.1049, -0.1394, -0.1886, -0.2288, -0.2570, -0.2746,\n",
      "          -0.2951, -0.3242, -0.3656, -0.4155, -0.4712],\n",
      "         [ 0.0947,  0.0655,  0.0925,  0.0989,  0.1158,  0.1189,  0.1279,\n",
      "           0.1294,  0.1357,  0.1363,  0.1387,  0.1321]]], device='cuda:0',\n",
      "       dtype=torch.float64)\n",
      "tensor([[[-0.1049, -0.0818, -0.1886, -0.1394, -0.2570, -0.2288, -0.2951,\n",
      "          -0.2746, -0.3656, -0.3242, -0.4712, -0.4155],\n",
      "         [ 0.0655,  0.0947,  0.0989,  0.0925,  0.1189,  0.1158,  0.1294,\n",
      "           0.1279,  0.1363,  0.1357,  0.1321,  0.1387]]], device='cuda:0',\n",
      "       dtype=torch.float64)\n",
      "6 | 20: 0.00\n",
      "Creating permutation tensor at shuffled_index/shuffled_index_random_40_6_02_02.pt, with strategy random, frequency 40, and patch length 6\n"
     ]
    },
    {
     "data": {
      "application/vnd.jupyter.widget-view+json": {
       "model_id": "1d4bd1dddbc949188503aa599dc05303",
       "version_major": 2,
       "version_minor": 0
      },
      "text/plain": [
       "Creating permutation tensor:   0%|          | 0/100 [00:00<?, ?it/s]"
      ]
     },
     "metadata": {},
     "output_type": "display_data"
    },
    {
     "name": "stdout",
     "output_type": "stream",
     "text": [
      "Input ACF-COS data is 3D (Batch, Channel, Time), trying to spilt the Time dimension into (Patch Length, Patch Number)\n",
      "####################\n",
      "[[[-0.08181659 -0.10493636 -0.13935885 -0.18864648 -0.22881389\n",
      "   -0.25704815 -0.27459713 -0.29514215 -0.32415694 -0.36563825\n",
      "   -0.41545624 -0.47124731]\n",
      "  [ 0.09468833  0.06546107  0.0924822   0.09893493  0.11581817\n",
      "    0.1189141   0.12794098  0.12941206  0.13572889  0.13627249\n",
      "    0.13872264  0.13213997]]]\n",
      "####################\n",
      "torch.Size([1, 2, 6, 2]) torch.Size([1, 2, 6, 2])\n",
      "tensor([[[[-0.0818, -0.1049],\n",
      "          [-0.1394, -0.1886],\n",
      "          [-0.2288, -0.2570],\n",
      "          [-0.2746, -0.2951],\n",
      "          [-0.3242, -0.3656],\n",
      "          [-0.4155, -0.4712]],\n",
      "\n",
      "         [[ 0.0947,  0.0655],\n",
      "          [ 0.0925,  0.0989],\n",
      "          [ 0.1158,  0.1189],\n",
      "          [ 0.1279,  0.1294],\n",
      "          [ 0.1357,  0.1363],\n",
      "          [ 0.1387,  0.1321]]]], device='cuda:0', dtype=torch.float64)\n",
      "tensor([[[[-0.1049, -0.0818],\n",
      "          [-0.1886, -0.1394],\n",
      "          [-0.2570, -0.2288],\n",
      "          [-0.2951, -0.2746],\n",
      "          [-0.3656, -0.3242],\n",
      "          [-0.4712, -0.4155]],\n",
      "\n",
      "         [[ 0.0655,  0.0947],\n",
      "          [ 0.0989,  0.0925],\n",
      "          [ 0.1189,  0.1158],\n",
      "          [ 0.1294,  0.1279],\n",
      "          [ 0.1363,  0.1357],\n",
      "          [ 0.1321,  0.1387]]]], device='cuda:0', dtype=torch.float64)\n",
      "####################\n",
      "tensor([[[-0.0818, -0.1049, -0.1394, -0.1886, -0.2288, -0.2570, -0.2746,\n",
      "          -0.2951, -0.3242, -0.3656, -0.4155, -0.4712],\n",
      "         [ 0.0947,  0.0655,  0.0925,  0.0989,  0.1158,  0.1189,  0.1279,\n",
      "           0.1294,  0.1357,  0.1363,  0.1387,  0.1321]]], device='cuda:0',\n",
      "       dtype=torch.float64)\n",
      "tensor([[[-0.1049, -0.0818, -0.1886, -0.1394, -0.2570, -0.2288, -0.2951,\n",
      "          -0.2746, -0.3656, -0.3242, -0.4712, -0.4155],\n",
      "         [ 0.0655,  0.0947,  0.0989,  0.0925,  0.1189,  0.1158,  0.1294,\n",
      "           0.1279,  0.1363,  0.1357,  0.1321,  0.1387]]], device='cuda:0',\n",
      "       dtype=torch.float64)\n",
      "6 | 40: 0.00\n"
     ]
    }
   ],
   "source": [
    "\n",
    "patch_len = [4, 6]\n",
    "permute_freq = [10, 20, 40]\n",
    "\n",
    "combinations = []\n",
    "for p_len in patch_len:\n",
    "    for p_freq in permute_freq:\n",
    "        combinations.append((p_len, p_freq))\n",
    "\n",
    "scores = []\n",
    "\n",
    "for patch_len, permute_freq in combinations:\n",
    "    acf_cos = ACF_COS(\n",
    "        channel_num=num_channels,\n",
    "        original_time_len=seq_len,\n",
    "        patch_len=patch_len,\n",
    "        permute_freq=permute_freq,\n",
    "        device='cuda',\n",
    "        permute_tensor_size=100\n",
    "    )\n",
    "\n",
    "    score = acf_cos(test_X)\n",
    "\n",
    "    mean = np.mean(score)\n",
    "    std = np.std(score)\n",
    "    mean_acf = np.mean(score)\n",
    "    print(f'{patch_len:d} | {permute_freq:d}: {mean_acf:.2f}')\n",
    "\n",
    "\n",
    "    scores.append(score)"
   ]
  },
  {
   "cell_type": "code",
   "execution_count": null,
   "metadata": {},
   "outputs": [],
   "source": []
  }
 ],
 "metadata": {
  "kernelspec": {
   "display_name": "Python 3",
   "language": "python",
   "name": "python3"
  },
  "language_info": {
   "codemirror_mode": {
    "name": "ipython",
    "version": 3
   },
   "file_extension": ".py",
   "mimetype": "text/x-python",
   "name": "python",
   "nbconvert_exporter": "python",
   "pygments_lexer": "ipython3",
   "version": "3.10.12"
  }
 },
 "nbformat": 4,
 "nbformat_minor": 2
}
